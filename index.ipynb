{
  "cells": [
    {
      "cell_type": "raw",
      "metadata": {},
      "source": [
        "---\n",
        "title: \"Kaixing Liu 刘开星\"\n",
        "toc: false\n",
        "image: MeWebsite.jpg\n",
        "about:\n",
        "  template: trestles\n",
        "  links: \n",
        "    - icon: linkedin\n",
        "      text: LinkedIn\n",
        "      href: https://www.linkedin.com/in/kaixing-liu-437b78244/?locale=en_US\n",
        "    - text: Email\n",
        "      href: mailto:kaixing.liu@Vanderbilt.Edu\n",
        "---"
      ],
      "id": "cc491265"
    },
    {
      "cell_type": "markdown",
      "metadata": {},
      "source": [
        "```{html}\n",
        "<head>\n",
        "  <meta name=\"google-site-verification\" content=\"brvqqjtOofNeWsnSnPKFYGyZovSPHBFOCjR4QfY6IIM\" />\n",
        "</head>\n",
        "```\n",
        "\n",
        "\n",
        "### Welcome to My Website!\n",
        "\n",
        "I am currently a graduate student in the [Department of Biostatistics](https://www.vumc.org/biostatistics) at [Vanderbilt University](https://www.vanderbilt.edu/).\n",
        "\n",
        "### Education\n",
        "\n",
        "**MS in Biostatistics**, 2023-2025, Vanderbilt University\n",
        "\n",
        "**BS in Biological Science (minor in Economics and Statistics)**, 2018-2023, Tsinghua University\n",
        "\n",
        "**High School**, 2015-2018, The High School Attached to Hunan Normal Univeristy\n",
        "\n",
        "### Research Interest\n",
        "\n",
        "**Causal Inference**: Instrumental Variable, G-Computation, and etc.\n",
        "\n",
        "**Data Integration/Fusion**: Combine Randomized Clinical Trials and Observational Studies\n",
        "\n",
        "**Fundamental Problems of Statistics** and **Data Visualization**"
      ],
      "id": "cc3a2fa7"
    }
  ],
  "metadata": {
    "kernelspec": {
      "display_name": "Python 3",
      "language": "python",
      "name": "python3"
    }
  },
  "nbformat": 4,
  "nbformat_minor": 5
}